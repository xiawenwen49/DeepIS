{
 "cells": [
  {
   "cell_type": "code",
   "execution_count": 1,
   "metadata": {},
   "outputs": [],
   "source": [
    "%load_ext autoreload\n",
    "%autoreload 2\n",
    "%config InlineBackend.figure_format = 'retina' # 'retina'\n",
    "import logging\n",
    "import torch\n",
    "import numpy as np\n",
    "import pickle\n",
    "from pathlib import Path\n",
    "import pandas as pd\n",
    "import copy\n",
    "import seaborn as sns\n",
    "import matplotlib\n",
    "import matplotlib.pyplot as plt\n",
    "import time\n",
    "\n",
    "from main.deepis import DeepIS, DiffusionPropagate, Identity\n",
    "from main.models.MLP import MLPTransform\n",
    "from main.models.GraphSAGE import SupervisedGraphSage\n",
    "from main.models.GAT import GAT\n",
    "from main.models.SGC import SGC\n",
    "from main.utils import to_nparray, to_torch, sp2adj_lists\n",
    "from main.training import train_model, get_predictions_new_seeds, PIteration, FeatureCons\n",
    "from main.earlystopping import stopping_args\n",
    "from main.utils import load_dataset, load_latest_ckpt\n",
    "# from im.influspread import IS\n",
    "\n",
    "logging.basicConfig(\n",
    "    format='%(asctime)s:%(message)s',\n",
    "    datefmt='%Y-%m-%d %H:%M:%S',\n",
    "    level=logging.INFO)\n",
    "plt.style.use('seaborn')\n",
    "me_op = lambda x, y: np.mean(np.abs(x - y))\n",
    "te_op = lambda x, y: np.abs(np.sum(x) - np.sum(y))                               "
   ]
  },
  {
   "cell_type": "markdown",
   "metadata": {},
   "source": [
    "# Load the dataset\n"
   ]
  },
  {
   "source": [
    "## Load from saved SparseGraph object, with added prob_matrix and influ_mats"
   ],
   "cell_type": "markdown",
   "metadata": {}
  },
  {
   "cell_type": "code",
   "execution_count": 2,
   "metadata": {},
   "outputs": [],
   "source": [
    "# key parameters\n",
    "dataset = 'cora_ml' # 'cora_ml', 'citeseer', 'ms_academic', 'pubmed'\n",
    "model_name = 'deepis' # 'deepis', ''"
   ]
  },
  {
   "cell_type": "code",
   "execution_count": 3,
   "metadata": {},
   "outputs": [
    {
     "output_type": "stream",
     "name": "stdout",
     "text": [
      "<Undirected, unweighted and connected SparseGraph with 15962 edges (no self-loops). Data: adj_matrix (2810x2810), attr_matrix (2810x2879), labels (2810), node_names (2810), attr_names (2879), class_names (7), prob_matrix (2810x2810), influ_mat_list (60x2810x25)>\n"
     ]
    },
    {
     "output_type": "execute_result",
     "data": {
      "text/plain": [
       "((50, 2810, 25), (60, 2810, 25))"
      ]
     },
     "metadata": {},
     "execution_count": 3
    }
   ],
   "source": [
    "graph = load_dataset(dataset)\n",
    "print(graph)\n",
    "\n",
    "influ_mat_list = copy.copy(graph.influ_mat_list)\n",
    "graph.influ_mat_list = graph.influ_mat_list[:50]\n",
    "graph.influ_mat_list.shape, influ_mat_list.shape"
   ]
  },
  {
   "cell_type": "markdown",
   "metadata": {},
   "source": [
    "# Build model"
   ]
  },
  {
   "cell_type": "code",
   "execution_count": 4,
   "metadata": {
    "scrolled": true
   },
   "outputs": [
    {
     "output_type": "stream",
     "name": "stdout",
     "text": [
      "The autoreload extension is already loaded. To reload it, use:\n  %reload_ext autoreload\n"
     ]
    }
   ],
   "source": [
    "%load_ext autoreload\n",
    "%autoreload 2\n",
    "\n",
    "# training parameters\n",
    "niter = 4 \n",
    "propagate_model = lambda x, _, y:x[y]\n",
    "fea_constructor = FeatureCons(model_name, niter=niter)\n",
    "fea_constructor.prob_matrix = graph.prob_matrix\n",
    "device = 'cpu' # 'cpu', 'cuda'\n",
    "args_dict = {\n",
    "    'learning_rate': 0.0001,\n",
    "    'λ': 0,\n",
    "    'γ': 0,\n",
    "    'ckpt_dir': Path('./checkpoints'),\n",
    "    'idx_split_args': {'ntraining': 1500, 'nstopping': 500, 'nval': 10, 'seed': 2413340114},  \n",
    "    'test': False,\n",
    "    'device': device,\n",
    "    'print_interval': 1,\n",
    "    'batch_size': None,\n",
    "    \n",
    "}\n",
    "if model_name == 'deepis':\n",
    "    gnn_model = MLPTransform(input_dim=niter+1, hiddenunits=[64, 64], num_classes=1)\n",
    "else:\n",
    "    pass\n",
    "model = DeepIS( gnn_model=gnn_model, propagate=propagate_model)"
   ]
  },
  {
   "cell_type": "markdown",
   "metadata": {},
   "source": [
    "## Train model from stratch"
   ]
  },
  {
   "cell_type": "code",
   "execution_count": 5,
   "metadata": {
    "scrolled": true,
    "tags": [
     "outputPrepend"
    ]
   },
   "outputs": [
    {
     "output_type": "stream",
     "name": "stderr",
     "text": [
      "48, (1.098 sec)\n",
      "2020-12-13 17:12:53:Epoch 47: Train loss = 0.1167, Train error = 0.1167, early stopping loss = 0.0860, early stopping error = 0.0860, (1.115 sec)\n",
      "2020-12-13 17:12:54:Epoch 48: Train loss = 0.1171, Train error = 0.1171, early stopping loss = 0.0801, early stopping error = 0.0801, (1.098 sec)\n",
      "2020-12-13 17:12:55:Epoch 49: Train loss = 0.1128, Train error = 0.1128, early stopping loss = 0.0876, early stopping error = 0.0876, (1.096 sec)\n",
      "2020-12-13 17:12:56:Epoch 50: Train loss = 0.1139, Train error = 0.1139, early stopping loss = 0.0824, early stopping error = 0.0824, (1.091 sec)\n",
      "2020-12-13 17:12:57:Epoch 51: Train loss = 0.1142, Train error = 0.1142, early stopping loss = 0.0854, early stopping error = 0.0854, (1.144 sec)\n",
      "2020-12-13 17:12:59:Epoch 52: Train loss = 0.1149, Train error = 0.1149, early stopping loss = 0.0801, early stopping error = 0.0801, (1.201 sec)\n",
      "2020-12-13 17:13:00:Epoch 53: Train loss = 0.1131, Train error = 0.1131, early stopping loss = 0.0809, early stopping error = 0.0809, (1.097 sec)\n",
      "2020-12-13 17:13:01:Epoch 54: Train loss = 0.1150, Train error = 0.1150, early stopping loss = 0.0827, early stopping error = 0.0827, (1.113 sec)\n",
      "2020-12-13 17:13:02:Epoch 55: Train loss = 0.1141, Train error = 0.1141, early stopping loss = 0.0784, early stopping error = 0.0784, (1.104 sec)\n",
      "2020-12-13 17:13:03:Epoch 56: Train loss = 0.1140, Train error = 0.1140, early stopping loss = 0.0793, early stopping error = 0.0793, (1.090 sec)\n",
      "2020-12-13 17:13:04:Epoch 57: Train loss = 0.1130, Train error = 0.1130, early stopping loss = 0.0820, early stopping error = 0.0820, (1.097 sec)\n",
      "2020-12-13 17:13:05:Epoch 58: Train loss = 0.1122, Train error = 0.1122, early stopping loss = 0.0817, early stopping error = 0.0817, (1.137 sec)\n",
      "2020-12-13 17:13:06:Epoch 59: Train loss = 0.1134, Train error = 0.1134, early stopping loss = 0.0819, early stopping error = 0.0819, (1.096 sec)\n",
      "2020-12-13 17:13:07:Epoch 60: Train loss = 0.1147, Train error = 0.1147, early stopping loss = 0.0769, early stopping error = 0.0769, (1.062 sec)\n",
      "2020-12-13 17:13:08:Epoch 61: Train loss = 0.1125, Train error = 0.1125, early stopping loss = 0.0779, early stopping error = 0.0779, (1.078 sec)\n",
      "2020-12-13 17:13:09:Epoch 62: Train loss = 0.1110, Train error = 0.1110, early stopping loss = 0.0854, early stopping error = 0.0854, (1.088 sec)\n",
      "2020-12-13 17:13:11:Epoch 63: Train loss = 0.1123, Train error = 0.1123, early stopping loss = 0.0791, early stopping error = 0.0791, (1.114 sec)\n",
      "2020-12-13 17:13:12:Epoch 64: Train loss = 0.1112, Train error = 0.1112, early stopping loss = 0.0852, early stopping error = 0.0852, (1.071 sec)\n",
      "2020-12-13 17:13:13:Epoch 65: Train loss = 0.1108, Train error = 0.1108, early stopping loss = 0.0848, early stopping error = 0.0848, (1.088 sec)\n",
      "2020-12-13 17:13:14:Epoch 66: Train loss = 0.1117, Train error = 0.1117, early stopping loss = 0.0761, early stopping error = 0.0761, (1.095 sec)\n",
      "2020-12-13 17:13:15:Epoch 67: Train loss = 0.1123, Train error = 0.1123, early stopping loss = 0.0807, early stopping error = 0.0807, (1.064 sec)\n",
      "2020-12-13 17:13:16:Epoch 68: Train loss = 0.1114, Train error = 0.1114, early stopping loss = 0.0796, early stopping error = 0.0796, (1.095 sec)\n",
      "2020-12-13 17:13:17:Epoch 69: Train loss = 0.1108, Train error = 0.1108, early stopping loss = 0.0774, early stopping error = 0.0774, (1.114 sec)\n",
      "2020-12-13 17:13:18:Epoch 70: Train loss = 0.1151, Train error = 0.1151, early stopping loss = 0.0771, early stopping error = 0.0771, (1.111 sec)\n",
      "2020-12-13 17:13:19:Epoch 71: Train loss = 0.1106, Train error = 0.1106, early stopping loss = 0.0778, early stopping error = 0.0778, (1.137 sec)\n",
      "2020-12-13 17:13:20:Epoch 72: Train loss = 0.1118, Train error = 0.1118, early stopping loss = 0.0792, early stopping error = 0.0792, (1.093 sec)\n",
      "2020-12-13 17:13:22:Epoch 73: Train loss = 0.1125, Train error = 0.1125, early stopping loss = 0.0759, early stopping error = 0.0759, (1.122 sec)\n",
      "2020-12-13 17:13:23:Epoch 74: Train loss = 0.1112, Train error = 0.1112, early stopping loss = 0.0755, early stopping error = 0.0755, (1.146 sec)\n",
      "2020-12-13 17:13:24:Epoch 75: Train loss = 0.1125, Train error = 0.1125, early stopping loss = 0.0751, early stopping error = 0.0751, (1.075 sec)\n",
      "2020-12-13 17:13:25:Epoch 76: Train loss = 0.1102, Train error = 0.1102, early stopping loss = 0.0751, early stopping error = 0.0751, (1.032 sec)\n",
      "2020-12-13 17:13:26:Epoch 77: Train loss = 0.1117, Train error = 0.1117, early stopping loss = 0.0779, early stopping error = 0.0779, (1.117 sec)\n",
      "2020-12-13 17:13:27:Epoch 78: Train loss = 0.1101, Train error = 0.1101, early stopping loss = 0.0786, early stopping error = 0.0786, (1.102 sec)\n",
      "2020-12-13 17:13:28:Epoch 79: Train loss = 0.1098, Train error = 0.1098, early stopping loss = 0.0753, early stopping error = 0.0753, (1.081 sec)\n",
      "2020-12-13 17:13:29:Epoch 80: Train loss = 0.1100, Train error = 0.1100, early stopping loss = 0.0831, early stopping error = 0.0831, (1.083 sec)\n",
      "2020-12-13 17:13:30:Epoch 81: Train loss = 0.1098, Train error = 0.1098, early stopping loss = 0.0788, early stopping error = 0.0788, (0.947 sec)\n",
      "2020-12-13 17:13:31:Epoch 82: Train loss = 0.1081, Train error = 0.1081, early stopping loss = 0.0795, early stopping error = 0.0795, (1.118 sec)\n",
      "2020-12-13 17:13:32:Epoch 83: Train loss = 0.1108, Train error = 0.1108, early stopping loss = 0.0743, early stopping error = 0.0743, (1.113 sec)\n",
      "2020-12-13 17:13:34:Epoch 84: Train loss = 0.1111, Train error = 0.1111, early stopping loss = 0.0755, early stopping error = 0.0755, (1.175 sec)\n",
      "2020-12-13 17:13:35:Epoch 85: Train loss = 0.1092, Train error = 0.1092, early stopping loss = 0.0740, early stopping error = 0.0740, (1.034 sec)\n",
      "2020-12-13 17:13:36:Epoch 86: Train loss = 0.1080, Train error = 0.1080, early stopping loss = 0.0810, early stopping error = 0.0810, (1.088 sec)\n",
      "2020-12-13 17:13:37:Epoch 87: Train loss = 0.1102, Train error = 0.1102, early stopping loss = 0.0721, early stopping error = 0.0721, (1.101 sec)\n",
      "2020-12-13 17:13:38:Epoch 88: Train loss = 0.1114, Train error = 0.1114, early stopping loss = 0.0758, early stopping error = 0.0758, (0.906 sec)\n",
      "2020-12-13 17:13:39:Epoch 89: Train loss = 0.1106, Train error = 0.1106, early stopping loss = 0.0755, early stopping error = 0.0755, (0.939 sec)\n",
      "2020-12-13 17:13:40:Epoch 90: Train loss = 0.1089, Train error = 0.1089, early stopping loss = 0.0742, early stopping error = 0.0742, (0.959 sec)\n",
      "2020-12-13 17:13:41:Epoch 91: Train loss = 0.1093, Train error = 0.1093, early stopping loss = 0.0755, early stopping error = 0.0755, (0.913 sec)\n",
      "2020-12-13 17:13:41:Epoch 92: Train loss = 0.1083, Train error = 0.1083, early stopping loss = 0.0765, early stopping error = 0.0765, (0.958 sec)\n",
      "2020-12-13 17:13:42:Epoch 93: Train loss = 0.1086, Train error = 0.1086, early stopping loss = 0.0711, early stopping error = 0.0711, (0.949 sec)\n",
      "2020-12-13 17:13:43:Epoch 94: Train loss = 0.1120, Train error = 0.1120, early stopping loss = 0.0691, early stopping error = 0.0691, (0.917 sec)\n",
      "2020-12-13 17:13:44:Epoch 95: Train loss = 0.1084, Train error = 0.1084, early stopping loss = 0.0796, early stopping error = 0.0796, (0.971 sec)\n",
      "2020-12-13 17:13:45:Epoch 96: Train loss = 0.1095, Train error = 0.1095, early stopping loss = 0.0738, early stopping error = 0.0738, (0.970 sec)\n",
      "2020-12-13 17:13:46:Epoch 97: Train loss = 0.1085, Train error = 0.1085, early stopping loss = 0.0794, early stopping error = 0.0794, (0.937 sec)\n",
      "2020-12-13 17:13:47:Epoch 98: Train loss = 0.1083, Train error = 0.1083, early stopping loss = 0.0772, early stopping error = 0.0772, (0.967 sec)\n",
      "2020-12-13 17:13:48:Epoch 99: Train loss = 0.1079, Train error = 0.1079, early stopping loss = 0.0744, early stopping error = 0.0744, (0.937 sec)\n",
      "2020-12-13 17:13:49:Epoch 100: Train loss = 0.1080, Train error = 0.1080, early stopping loss = 0.0757, early stopping error = 0.0757, (0.982 sec)\n",
      "2020-12-13 17:13:50:Epoch 101: Train loss = 0.1074, Train error = 0.1074, early stopping loss = 0.0728, early stopping error = 0.0728, (0.975 sec)\n",
      "2020-12-13 17:13:51:Epoch 102: Train loss = 0.1081, Train error = 0.1081, early stopping loss = 0.0747, early stopping error = 0.0747, (0.937 sec)\n",
      "2020-12-13 17:13:52:Epoch 103: Train loss = 0.1081, Train error = 0.1081, early stopping loss = 0.0708, early stopping error = 0.0708, (0.971 sec)\n",
      "2020-12-13 17:13:53:Epoch 104: Train loss = 0.1077, Train error = 0.1077, early stopping loss = 0.0721, early stopping error = 0.0721, (0.964 sec)\n",
      "2020-12-13 17:13:54:Epoch 105: Train loss = 0.1068, Train error = 0.1068, early stopping loss = 0.0745, early stopping error = 0.0745, (0.944 sec)\n",
      "2020-12-13 17:13:55:Epoch 106: Train loss = 0.1066, Train error = 0.1066, early stopping loss = 0.0758, early stopping error = 0.0758, (0.968 sec)\n",
      "2020-12-13 17:13:56:Epoch 107: Train loss = 0.1059, Train error = 0.1059, early stopping loss = 0.0771, early stopping error = 0.0771, (0.935 sec)\n",
      "2020-12-13 17:13:57:Epoch 108: Train loss = 0.1088, Train error = 0.1088, early stopping loss = 0.0674, early stopping error = 0.0674, (0.995 sec)\n",
      "2020-12-13 17:13:58:Epoch 109: Train loss = 0.1066, Train error = 0.1066, early stopping loss = 0.0687, early stopping error = 0.0687, (0.956 sec)\n",
      "2020-12-13 17:13:59:Epoch 110: Train loss = 0.1083, Train error = 0.1083, early stopping loss = 0.0687, early stopping error = 0.0687, (1.049 sec)\n",
      "2020-12-13 17:14:00:Epoch 111: Train loss = 0.1070, Train error = 0.1070, early stopping loss = 0.0696, early stopping error = 0.0696, (1.286 sec)\n",
      "2020-12-13 17:14:01:Epoch 112: Train loss = 0.1068, Train error = 0.1068, early stopping loss = 0.0770, early stopping error = 0.0770, (1.140 sec)\n",
      "2020-12-13 17:14:02:Epoch 113: Train loss = 0.1074, Train error = 0.1074, early stopping loss = 0.0736, early stopping error = 0.0736, (1.068 sec)\n",
      "2020-12-13 17:14:03:Epoch 114: Train loss = 0.1084, Train error = 0.1084, early stopping loss = 0.0693, early stopping error = 0.0693, (1.159 sec)\n",
      "2020-12-13 17:14:05:Epoch 115: Train loss = 0.1067, Train error = 0.1067, early stopping loss = 0.0727, early stopping error = 0.0727, (1.144 sec)\n",
      "2020-12-13 17:14:06:Epoch 116: Train loss = 0.1066, Train error = 0.1066, early stopping loss = 0.0764, early stopping error = 0.0764, (1.164 sec)\n",
      "2020-12-13 17:14:07:Epoch 117: Train loss = 0.1066, Train error = 0.1066, early stopping loss = 0.0722, early stopping error = 0.0722, (1.185 sec)\n",
      "2020-12-13 17:14:08:Epoch 118: Train loss = 0.1075, Train error = 0.1075, early stopping loss = 0.0710, early stopping error = 0.0710, (1.139 sec)\n",
      "2020-12-13 17:14:09:Epoch 119: Train loss = 0.1086, Train error = 0.1086, early stopping loss = 0.0685, early stopping error = 0.0685, (1.049 sec)\n",
      "2020-12-13 17:14:10:Epoch 120: Train loss = 0.1080, Train error = 0.1080, early stopping loss = 0.0753, early stopping error = 0.0753, (1.194 sec)\n",
      "2020-12-13 17:14:11:Epoch 121: Train loss = 0.1075, Train error = 0.1075, early stopping loss = 0.0695, early stopping error = 0.0695, (1.137 sec)\n",
      "2020-12-13 17:14:13:Epoch 122: Train loss = 0.1058, Train error = 0.1058, early stopping loss = 0.0735, early stopping error = 0.0735, (1.116 sec)\n",
      "2020-12-13 17:14:14:Epoch 123: Train loss = 0.1053, Train error = 0.1053, early stopping loss = 0.0773, early stopping error = 0.0773, (1.019 sec)\n",
      "2020-12-13 17:14:15:Epoch 124: Train loss = 0.1067, Train error = 0.1067, early stopping loss = 0.0712, early stopping error = 0.0712, (1.041 sec)\n",
      "2020-12-13 17:14:16:Epoch 125: Train loss = 0.1087, Train error = 0.1087, early stopping loss = 0.0751, early stopping error = 0.0751, (1.026 sec)\n",
      "2020-12-13 17:14:17:Epoch 126: Train loss = 0.1065, Train error = 0.1065, early stopping loss = 0.0678, early stopping error = 0.0678, (1.002 sec)\n",
      "2020-12-13 17:14:18:Epoch 127: Train loss = 0.1066, Train error = 0.1066, early stopping loss = 0.0690, early stopping error = 0.0690, (1.030 sec)\n",
      "2020-12-13 17:14:19:Epoch 128: Train loss = 0.1062, Train error = 0.1062, early stopping loss = 0.0707, early stopping error = 0.0707, (1.034 sec)\n",
      "2020-12-13 17:14:20:Epoch 129: Train loss = 0.1083, Train error = 0.1083, early stopping loss = 0.0722, early stopping error = 0.0722, (0.994 sec)\n",
      "2020-12-13 17:14:21:Epoch 130: Train loss = 0.1055, Train error = 0.1055, early stopping loss = 0.0779, early stopping error = 0.0779, (1.040 sec)\n",
      "2020-12-13 17:14:22:Epoch 131: Train loss = 0.1067, Train error = 0.1067, early stopping loss = 0.0745, early stopping error = 0.0745, (1.031 sec)\n",
      "2020-12-13 17:14:23:Epoch 132: Train loss = 0.1063, Train error = 0.1063, early stopping loss = 0.0728, early stopping error = 0.0728, (1.016 sec)\n",
      "2020-12-13 17:14:24:Epoch 133: Train loss = 0.1076, Train error = 0.1076, early stopping loss = 0.0668, early stopping error = 0.0668, (1.046 sec)\n",
      "2020-12-13 17:14:25:Epoch 134: Train loss = 0.1072, Train error = 0.1072, early stopping loss = 0.0693, early stopping error = 0.0693, (1.038 sec)\n",
      "2020-12-13 17:14:26:Epoch 135: Train loss = 0.1061, Train error = 0.1061, early stopping loss = 0.0680, early stopping error = 0.0680, (0.999 sec)\n",
      "2020-12-13 17:14:27:Epoch 136: Train loss = 0.1058, Train error = 0.1058, early stopping loss = 0.0700, early stopping error = 0.0700, (1.063 sec)\n",
      "2020-12-13 17:14:28:Epoch 137: Train loss = 0.1054, Train error = 0.1054, early stopping loss = 0.0736, early stopping error = 0.0736, (1.006 sec)\n",
      "2020-12-13 17:14:29:Epoch 138: Train loss = 0.1063, Train error = 0.1063, early stopping loss = 0.0728, early stopping error = 0.0728, (1.063 sec)\n",
      "2020-12-13 17:14:30:Epoch 139: Train loss = 0.1058, Train error = 0.1058, early stopping loss = 0.0711, early stopping error = 0.0711, (1.032 sec)\n",
      "2020-12-13 17:14:31:Epoch 140: Train loss = 0.1069, Train error = 0.1069, early stopping loss = 0.0686, early stopping error = 0.0686, (0.996 sec)\n",
      "2020-12-13 17:14:32:Epoch 141: Train loss = 0.1050, Train error = 0.1050, early stopping loss = 0.0726, early stopping error = 0.0726, (1.040 sec)\n",
      "2020-12-13 17:14:33:Epoch 142: Train loss = 0.1041, Train error = 0.1041, early stopping loss = 0.0746, early stopping error = 0.0746, (1.047 sec)\n",
      "2020-12-13 17:14:34:Epoch 143: Train loss = 0.1060, Train error = 0.1060, early stopping loss = 0.0675, early stopping error = 0.0675, (1.016 sec)\n",
      "2020-12-13 17:14:35:Epoch 144: Train loss = 0.1075, Train error = 0.1075, early stopping loss = 0.0709, early stopping error = 0.0709, (1.035 sec)\n",
      "2020-12-13 17:14:36:Epoch 145: Train loss = 0.1071, Train error = 0.1071, early stopping loss = 0.0688, early stopping error = 0.0688, (1.078 sec)\n",
      "2020-12-13 17:14:38:Epoch 146: Train loss = 0.1052, Train error = 0.1052, early stopping loss = 0.0691, early stopping error = 0.0691, (1.348 sec)\n",
      "2020-12-13 17:14:39:Epoch 147: Train loss = 0.1047, Train error = 0.1047, early stopping loss = 0.0735, early stopping error = 0.0735, (1.154 sec)\n",
      "2020-12-13 17:14:40:Epoch 148: Train loss = 0.1044, Train error = 0.1044, early stopping loss = 0.0718, early stopping error = 0.0718, (1.056 sec)\n",
      "2020-12-13 17:14:41:Epoch 149: Train loss = 0.1070, Train error = 0.1070, early stopping loss = 0.0685, early stopping error = 0.0685, (1.156 sec)\n",
      "2020-12-13 17:14:42:Epoch 150: Train loss = 0.1059, Train error = 0.1059, early stopping loss = 0.0656, early stopping error = 0.0656, (1.107 sec)\n",
      "2020-12-13 17:14:43:Epoch 151: Train loss = 0.1078, Train error = 0.1078, early stopping loss = 0.0628, early stopping error = 0.0628, (1.042 sec)\n",
      "2020-12-13 17:14:44:Epoch 152: Train loss = 0.1061, Train error = 0.1061, early stopping loss = 0.0688, early stopping error = 0.0688, (1.150 sec)\n",
      "2020-12-13 17:14:45:Epoch 153: Train loss = 0.1046, Train error = 0.1046, early stopping loss = 0.0685, early stopping error = 0.0685, (1.136 sec)\n",
      "2020-12-13 17:14:46:Epoch 154: Train loss = 0.1042, Train error = 0.1042, early stopping loss = 0.0700, early stopping error = 0.0700, (1.022 sec)\n",
      "2020-12-13 17:14:48:Epoch 155: Train loss = 0.1058, Train error = 0.1058, early stopping loss = 0.0687, early stopping error = 0.0687, (1.050 sec)\n",
      "2020-12-13 17:14:49:Epoch 156: Train loss = 0.1052, Train error = 0.1052, early stopping loss = 0.0715, early stopping error = 0.0715, (1.089 sec)\n",
      "2020-12-13 17:14:50:Epoch 157: Train loss = 0.1041, Train error = 0.1041, early stopping loss = 0.0705, early stopping error = 0.0705, (1.066 sec)\n",
      "2020-12-13 17:14:51:Epoch 158: Train loss = 0.1051, Train error = 0.1051, early stopping loss = 0.0661, early stopping error = 0.0661, (1.153 sec)\n",
      "2020-12-13 17:14:52:Epoch 159: Train loss = 0.1050, Train error = 0.1050, early stopping loss = 0.0708, early stopping error = 0.0708, (1.049 sec)\n",
      "2020-12-13 17:14:53:Epoch 160: Train loss = 0.1054, Train error = 0.1054, early stopping loss = 0.0666, early stopping error = 0.0666, (1.162 sec)\n",
      "2020-12-13 17:14:54:Epoch 161: Train loss = 0.1058, Train error = 0.1058, early stopping loss = 0.0726, early stopping error = 0.0726, (1.128 sec)\n",
      "2020-12-13 17:14:55:Epoch 162: Train loss = 0.1049, Train error = 0.1049, early stopping loss = 0.0689, early stopping error = 0.0689, (1.149 sec)\n",
      "2020-12-13 17:14:56:Epoch 163: Train loss = 0.1048, Train error = 0.1048, early stopping loss = 0.0745, early stopping error = 0.0745, (1.131 sec)\n",
      "2020-12-13 17:14:58:Epoch 164: Train loss = 0.1034, Train error = 0.1034, early stopping loss = 0.0717, early stopping error = 0.0717, (1.138 sec)\n",
      "2020-12-13 17:14:59:Epoch 165: Train loss = 0.1070, Train error = 0.1070, early stopping loss = 0.0638, early stopping error = 0.0638, (1.176 sec)\n",
      "2020-12-13 17:15:00:Epoch 166: Train loss = 0.1048, Train error = 0.1048, early stopping loss = 0.0704, early stopping error = 0.0704, (1.048 sec)\n",
      "2020-12-13 17:15:01:Epoch 167: Train loss = 0.1058, Train error = 0.1058, early stopping loss = 0.0759, early stopping error = 0.0759, (1.114 sec)\n",
      "2020-12-13 17:15:02:Epoch 168: Train loss = 0.1054, Train error = 0.1054, early stopping loss = 0.0678, early stopping error = 0.0678, (1.088 sec)\n",
      "2020-12-13 17:15:03:Epoch 169: Train loss = 0.1051, Train error = 0.1051, early stopping loss = 0.0692, early stopping error = 0.0692, (1.114 sec)\n",
      "2020-12-13 17:15:04:Epoch 170: Train loss = 0.1048, Train error = 0.1048, early stopping loss = 0.0640, early stopping error = 0.0640, (1.098 sec)\n",
      "2020-12-13 17:15:05:Epoch 171: Train loss = 0.1043, Train error = 0.1043, early stopping loss = 0.0753, early stopping error = 0.0753, (1.120 sec)\n",
      "2020-12-13 17:15:06:Epoch 172: Train loss = 0.1054, Train error = 0.1054, early stopping loss = 0.0734, early stopping error = 0.0734, (1.152 sec)\n",
      "2020-12-13 17:15:08:Epoch 173: Train loss = 0.1067, Train error = 0.1067, early stopping loss = 0.0675, early stopping error = 0.0675, (1.086 sec)\n",
      "2020-12-13 17:15:09:Epoch 174: Train loss = 0.1041, Train error = 0.1041, early stopping loss = 0.0716, early stopping error = 0.0716, (1.161 sec)\n",
      "2020-12-13 17:15:10:Epoch 175: Train loss = 0.1032, Train error = 0.1032, early stopping loss = 0.0724, early stopping error = 0.0724, (1.063 sec)\n",
      "2020-12-13 17:15:11:Epoch 176: Train loss = 0.1042, Train error = 0.1042, early stopping loss = 0.0679, early stopping error = 0.0679, (1.284 sec)\n",
      "2020-12-13 17:15:12:Epoch 177: Train loss = 0.1018, Train error = 0.1018, early stopping loss = 0.0726, early stopping error = 0.0726, (1.350 sec)\n",
      "2020-12-13 17:15:13:Epoch 178: Train loss = 0.1063, Train error = 0.1063, early stopping loss = 0.0686, early stopping error = 0.0686, (1.067 sec)\n",
      "2020-12-13 17:15:15:Epoch 179: Train loss = 0.1041, Train error = 0.1041, early stopping loss = 0.0708, early stopping error = 0.0708, (1.091 sec)\n",
      "2020-12-13 17:15:16:Epoch 180: Train loss = 0.1038, Train error = 0.1038, early stopping loss = 0.0703, early stopping error = 0.0703, (1.155 sec)\n",
      "2020-12-13 17:15:17:Epoch 181: Train loss = 0.1070, Train error = 0.1070, early stopping loss = 0.0688, early stopping error = 0.0688, (1.130 sec)\n",
      "2020-12-13 17:15:17:Last epoch: 181, best epoch: 151 (202.791 sec)\n",
      "2020-12-13 17:15:17:Early stopping error: 0.06487695030882955\n",
      "2020-12-13 17:15:17:Validation mean error: 0.07062539079785347\n"
     ]
    }
   ],
   "source": [
    "model, result = train_model(model_name + '_' + dataset, model, fea_constructor, graph, **args_dict)"
   ]
  },
  {
   "cell_type": "markdown",
   "metadata": {},
   "source": [
    "# Prediction on NEW SEEDS"
   ]
  },
  {
   "cell_type": "code",
   "execution_count": 6,
   "metadata": {},
   "outputs": [
    {
     "output_type": "execute_result",
     "data": {
      "text/plain": [
       "<Undirected, unweighted and connected SparseGraph with 15962 edges (no self-loops). Data: adj_matrix (2810x2810), attr_matrix (2810x2879), labels (2810), node_names (2810), attr_names (2879), class_names (7), prob_matrix (2810x2810), influ_mat_list (60x2810x25)>"
      ]
     },
     "metadata": {},
     "execution_count": 6
    }
   ],
   "source": [
    "dataset = 'cora_ml'\n",
    "graph = load_dataset(dataset)\n",
    "influ_mat_list = copy.copy(graph.influ_mat_list)\n",
    "graph"
   ]
  },
  {
   "cell_type": "markdown",
   "metadata": {},
   "source": [
    "### predict"
   ]
  },
  {
   "cell_type": "code",
   "execution_count": 7,
   "metadata": {},
   "outputs": [],
   "source": [
    "# metrics\n",
    "me = lambda x, y: np.mean(np.abs(x - y))\n",
    "te = lambda x, y: np.abs(np.sum(x) - np.sum(y)) "
   ]
  },
  {
   "cell_type": "code",
   "execution_count": 8,
   "metadata": {},
   "outputs": [
    {
     "output_type": "stream",
     "name": "stdout",
     "text": [
      "mean error: 0.01882258335314028\ntotal error: 15.74771246034561\nCPU times: user 2.04 s, sys: 110 ms, total: 2.15 s\nWall time: 439 ms\n"
     ]
    }
   ],
   "source": [
    "%%time\n",
    "influ_mat = influ_mat_list[58]\n",
    "seed_vec = influ_mat[:, 0]\n",
    "seed_idx = np.argwhere(seed_vec == 1) # used by PIteration\n",
    "influ_vec = influ_mat[:, -1]\n",
    "\n",
    "fea_constructor.prob_matrix = graph.prob_matrix\n",
    "preds = get_predictions_new_seeds(model, fea_constructor, seed_vec, np.arange(len(seed_vec)))\n",
    "final_preds = PIteration(graph.prob_matrix, preds, seed_idx, True, 2)\n",
    "\n",
    "print('mean error:', me(influ_vec, final_preds))\n",
    "print('total error:', te(influ_vec, final_preds))\n"
   ]
  }
 ],
 "metadata": {
  "file_extension": ".py",
  "kernelspec": {
   "display_name": "Python 3",
   "language": "python",
   "name": "python3"
  },
  "language_info": {
   "codemirror_mode": {
    "name": "ipython",
    "version": 3
   },
   "file_extension": ".py",
   "mimetype": "text/x-python",
   "name": "python",
   "nbconvert_exporter": "python",
   "pygments_lexer": "ipython3",
   "version": "3.8.3-final"
  },
  "mimetype": "text/x-python",
  "name": "python",
  "npconvert_exporter": "python",
  "pygments_lexer": "ipython3",
  "version": 3
 },
 "nbformat": 4,
 "nbformat_minor": 4
}