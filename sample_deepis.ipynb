{
 "cells": [
  {
   "cell_type": "code",
   "execution_count": 2,
   "metadata": {},
   "outputs": [],
   "source": [
    "%load_ext autoreload\n",
    "%autoreload 2\n",
    "%config InlineBackend.figure_format = 'retina' # 'retina'\n",
    "import logging\n",
    "import torch\n",
    "import numpy as np\n",
    "import pickle\n",
    "from pathlib import Path\n",
    "import pandas as pd\n",
    "import copy\n",
    "import seaborn as sns\n",
    "import matplotlib\n",
    "import matplotlib.pyplot as plt\n",
    "import time\n",
    "\n",
    "from main.deepis import DeepIS, DiffusionPropagate, Identity\n",
    "from main.models.MLP import MLPTransform\n",
    "from main.models.GraphSAGE import SupervisedGraphSage\n",
    "from main.models.GAT import GAT\n",
    "from main.models.SGC import SGC\n",
    "from main.utils import to_nparray, to_torch, sp2adj_lists\n",
    "from main.training import train_model, get_predictions_new_seeds, PIteration, FeatureCons\n",
    "from main.earlystopping import stopping_args\n",
    "from main.utils import load_dataset, load_latest_ckpt\n",
    "# from im.influspread import IS\n",
    "\n",
    "logging.basicConfig(\n",
    "    format='%(asctime)s:%(message)s',\n",
    "    datefmt='%Y-%m-%d %H:%M:%S',\n",
    "    level=logging.INFO)\n",
    "plt.style.use('seaborn')\n",
    "me_op = lambda x, y: np.mean(np.abs(x - y))\n",
    "te_op = lambda x, y: np.abs(np.sum(x) - np.sum(y))                               "
   ]
  },
  {
   "cell_type": "markdown",
   "metadata": {},
   "source": [
    "# Load the dataset\n"
   ]
  },
  {
   "source": [
    "## Load from saved SparseGraph object, with added prob_matrix and influ_mats"
   ],
   "cell_type": "markdown",
   "metadata": {}
  },
  {
   "cell_type": "code",
   "execution_count": 3,
   "metadata": {},
   "outputs": [],
   "source": [
    "# key parameters\n",
    "dataset = 'cora_ml' # 'cora_ml', 'citeseer', 'ms_academic', 'pubmed'\n",
    "model_name = 'deepis' # 'deepis', ''"
   ]
  },
  {
   "cell_type": "code",
   "execution_count": 4,
   "metadata": {},
   "outputs": [
    {
     "output_type": "stream",
     "name": "stdout",
     "text": [
      "<Undirected, unweighted and connected SparseGraph with 15962 edges (no self-loops). Data: adj_matrix (2810x2810), attr_matrix (2810x2879), labels (2810), node_names (2810), attr_names (2879), class_names (7), prob_matrix (2810x2810), influ_mat_list (60x2810x25)>\n"
     ]
    },
    {
     "output_type": "execute_result",
     "data": {
      "text/plain": [
       "((50, 2810, 25), (60, 2810, 25))"
      ]
     },
     "metadata": {},
     "execution_count": 4
    }
   ],
   "source": [
    "graph = load_dataset(dataset)\n",
    "print(graph)\n",
    "\n",
    "influ_mat_list = copy.copy(graph.influ_mat_list)\n",
    "graph.influ_mat_list = graph.influ_mat_list[:50]\n",
    "graph.influ_mat_list.shape, influ_mat_list.shape"
   ]
  },
  {
   "cell_type": "markdown",
   "metadata": {},
   "source": [
    "# Build model"
   ]
  },
  {
   "cell_type": "code",
   "execution_count": 5,
   "metadata": {
    "scrolled": true
   },
   "outputs": [
    {
     "output_type": "stream",
     "name": "stdout",
     "text": [
      "The autoreload extension is already loaded. To reload it, use:\n  %reload_ext autoreload\n"
     ]
    }
   ],
   "source": [
    "%load_ext autoreload\n",
    "%autoreload 2\n",
    "\n",
    "# training parameters\n",
    "niter = 4 \n",
    "propagate_model = lambda x, _, y:x[y]\n",
    "fea_constructor = FeatureCons(model_name, niter=niter)\n",
    "fea_constructor.prob_matrix = graph.prob_matrix\n",
    "device = 'cpu' # 'cpu', 'cuda'\n",
    "args_dict = {\n",
    "    'learning_rate': 0.0001,\n",
    "    'λ': 0,\n",
    "    'γ': 0,\n",
    "    'ckpt_dir': Path('./checkpoints'),\n",
    "    'idx_split_args': {'ntraining': 1500, 'nstopping': 500, 'nval': 10, 'seed': 2413340114},  \n",
    "    'test': False,\n",
    "    'device': device,\n",
    "    'print_interval': 1,\n",
    "    'batch_size': None,\n",
    "    \n",
    "}\n",
    "if model_name == 'deepis':\n",
    "    gnn_model = MLPTransform(input_dim=niter+1, hiddenunits=[64, 64], num_classes=1)\n",
    "else:\n",
    "    pass\n",
    "model = DeepIS( gnn_model=gnn_model, propagate=propagate_model)"
   ]
  },
  {
   "cell_type": "markdown",
   "metadata": {},
   "source": [
    "## Train model from stratch"
   ]
  },
  {
   "cell_type": "code",
   "execution_count": 6,
   "metadata": {
    "scrolled": true,
    "tags": []
   },
   "outputs": [
    {
     "output_type": "stream",
     "name": "stderr",
     "text": [
      "2020-12-13 17:22:16:PyTorch seed: 4123140685\n",
      "2020-12-13 17:22:28:Epoch 0: Train loss = 0.3439, Train error = 0.3439, early stopping loss = 0.3380, early stopping error = 0.3380, (12.161 sec)\n",
      "2020-12-13 17:22:30:Epoch 1: Train loss = 0.3307, Train error = 0.3307, early stopping loss = 0.3103, early stopping error = 0.3103, (1.029 sec)\n",
      "2020-12-13 17:22:31:Epoch 2: Train loss = 0.3086, Train error = 0.3086, early stopping loss = 0.3094, early stopping error = 0.3094, (0.996 sec)\n",
      "2020-12-13 17:22:32:Epoch 3: Train loss = 0.2929, Train error = 0.2929, early stopping loss = 0.2808, early stopping error = 0.2808, (0.999 sec)\n",
      "2020-12-13 17:22:33:Epoch 4: Train loss = 0.2702, Train error = 0.2702, early stopping loss = 0.2645, early stopping error = 0.2645, (1.122 sec)\n",
      "2020-12-13 17:22:34:Epoch 5: Train loss = 0.2482, Train error = 0.2482, early stopping loss = 0.2540, early stopping error = 0.2540, (1.059 sec)\n",
      "2020-12-13 17:22:35:Epoch 6: Train loss = 0.2276, Train error = 0.2276, early stopping loss = 0.2306, early stopping error = 0.2306, (1.102 sec)\n",
      "2020-12-13 17:22:36:Epoch 7: Train loss = 0.2078, Train error = 0.2078, early stopping loss = 0.2118, early stopping error = 0.2118, (1.071 sec)\n",
      "2020-12-13 17:22:37:Epoch 8: Train loss = 0.1910, Train error = 0.1910, early stopping loss = 0.1863, early stopping error = 0.1863, (1.086 sec)\n",
      "2020-12-13 17:22:38:Epoch 9: Train loss = 0.1761, Train error = 0.1761, early stopping loss = 0.1695, early stopping error = 0.1695, (1.005 sec)\n",
      "2020-12-13 17:22:39:Epoch 10: Train loss = 0.1644, Train error = 0.1644, early stopping loss = 0.1592, early stopping error = 0.1592, (1.156 sec)\n",
      "2020-12-13 17:22:40:Epoch 11: Train loss = 0.1556, Train error = 0.1556, early stopping loss = 0.1464, early stopping error = 0.1464, (1.090 sec)\n",
      "2020-12-13 17:22:41:Epoch 12: Train loss = 0.1490, Train error = 0.1490, early stopping loss = 0.1346, early stopping error = 0.1346, (1.040 sec)\n",
      "2020-12-13 17:22:42:Epoch 13: Train loss = 0.1422, Train error = 0.1422, early stopping loss = 0.1330, early stopping error = 0.1330, (1.096 sec)\n",
      "2020-12-13 17:22:43:Epoch 14: Train loss = 0.1401, Train error = 0.1401, early stopping loss = 0.1265, early stopping error = 0.1265, (1.112 sec)\n",
      "2020-12-13 17:22:45:Epoch 15: Train loss = 0.1371, Train error = 0.1371, early stopping loss = 0.1207, early stopping error = 0.1207, (1.111 sec)\n",
      "2020-12-13 17:22:46:Epoch 16: Train loss = 0.1362, Train error = 0.1362, early stopping loss = 0.1174, early stopping error = 0.1174, (0.991 sec)\n",
      "2020-12-13 17:22:47:Epoch 17: Train loss = 0.1299, Train error = 0.1299, early stopping loss = 0.1176, early stopping error = 0.1176, (1.229 sec)\n",
      "2020-12-13 17:22:48:Epoch 18: Train loss = 0.1293, Train error = 0.1293, early stopping loss = 0.1151, early stopping error = 0.1151, (0.941 sec)\n",
      "2020-12-13 17:22:49:Epoch 19: Train loss = 0.1300, Train error = 0.1300, early stopping loss = 0.1134, early stopping error = 0.1134, (1.007 sec)\n",
      "2020-12-13 17:22:50:Epoch 20: Train loss = 0.1281, Train error = 0.1281, early stopping loss = 0.1080, early stopping error = 0.1080, (1.012 sec)\n",
      "2020-12-13 17:22:51:Epoch 21: Train loss = 0.1264, Train error = 0.1264, early stopping loss = 0.1082, early stopping error = 0.1082, (1.016 sec)\n",
      "2020-12-13 17:22:52:Epoch 22: Train loss = 0.1248, Train error = 0.1248, early stopping loss = 0.1096, early stopping error = 0.1096, (0.946 sec)\n",
      "2020-12-13 17:22:53:Epoch 23: Train loss = 0.1252, Train error = 0.1252, early stopping loss = 0.1075, early stopping error = 0.1075, (1.020 sec)\n",
      "2020-12-13 17:22:54:Epoch 24: Train loss = 0.1231, Train error = 0.1231, early stopping loss = 0.1064, early stopping error = 0.1064, (1.045 sec)\n",
      "2020-12-13 17:22:55:Epoch 25: Train loss = 0.1240, Train error = 0.1240, early stopping loss = 0.1017, early stopping error = 0.1017, (0.960 sec)\n",
      "2020-12-13 17:22:56:Epoch 26: Train loss = 0.1241, Train error = 0.1241, early stopping loss = 0.1029, early stopping error = 0.1029, (1.025 sec)\n",
      "2020-12-13 17:22:57:Epoch 27: Train loss = 0.1244, Train error = 0.1244, early stopping loss = 0.0950, early stopping error = 0.0950, (1.053 sec)\n",
      "2020-12-13 17:22:58:Epoch 28: Train loss = 0.1232, Train error = 0.1232, early stopping loss = 0.1018, early stopping error = 0.1018, (1.039 sec)\n",
      "2020-12-13 17:22:59:Epoch 29: Train loss = 0.1208, Train error = 0.1208, early stopping loss = 0.0980, early stopping error = 0.0980, (0.965 sec)\n",
      "2020-12-13 17:23:00:Epoch 30: Train loss = 0.1249, Train error = 0.1249, early stopping loss = 0.0966, early stopping error = 0.0966, (1.097 sec)\n",
      "2020-12-13 17:23:01:Epoch 31: Train loss = 0.1222, Train error = 0.1222, early stopping loss = 0.0995, early stopping error = 0.0995, (1.124 sec)\n",
      "2020-12-13 17:23:02:Epoch 32: Train loss = 0.1211, Train error = 0.1211, early stopping loss = 0.1000, early stopping error = 0.1000, (1.110 sec)\n",
      "2020-12-13 17:23:03:Epoch 33: Train loss = 0.1211, Train error = 0.1211, early stopping loss = 0.0930, early stopping error = 0.0930, (1.036 sec)\n",
      "2020-12-13 17:23:04:Epoch 34: Train loss = 0.1191, Train error = 0.1191, early stopping loss = 0.0945, early stopping error = 0.0945, (1.035 sec)\n",
      "2020-12-13 17:23:05:Epoch 35: Train loss = 0.1193, Train error = 0.1193, early stopping loss = 0.0951, early stopping error = 0.0951, (0.972 sec)\n",
      "2020-12-13 17:23:06:Epoch 36: Train loss = 0.1192, Train error = 0.1192, early stopping loss = 0.0936, early stopping error = 0.0936, (1.048 sec)\n",
      "2020-12-13 17:23:07:Epoch 37: Train loss = 0.1197, Train error = 0.1197, early stopping loss = 0.0940, early stopping error = 0.0940, (1.023 sec)\n",
      "2020-12-13 17:23:08:Epoch 38: Train loss = 0.1187, Train error = 0.1187, early stopping loss = 0.0951, early stopping error = 0.0951, (0.973 sec)\n",
      "2020-12-13 17:23:09:Epoch 39: Train loss = 0.1183, Train error = 0.1183, early stopping loss = 0.0940, early stopping error = 0.0940, (1.075 sec)\n",
      "2020-12-13 17:23:10:Epoch 40: Train loss = 0.1194, Train error = 0.1194, early stopping loss = 0.0904, early stopping error = 0.0904, (1.033 sec)\n",
      "2020-12-13 17:23:11:Epoch 41: Train loss = 0.1200, Train error = 0.1200, early stopping loss = 0.0855, early stopping error = 0.0855, (1.040 sec)\n",
      "2020-12-13 17:23:12:Epoch 42: Train loss = 0.1186, Train error = 0.1186, early stopping loss = 0.0933, early stopping error = 0.0933, (0.975 sec)\n",
      "2020-12-13 17:23:13:Epoch 43: Train loss = 0.1192, Train error = 0.1192, early stopping loss = 0.0883, early stopping error = 0.0883, (1.044 sec)\n",
      "2020-12-13 17:23:14:Epoch 44: Train loss = 0.1165, Train error = 0.1165, early stopping loss = 0.0867, early stopping error = 0.0867, (1.077 sec)\n",
      "2020-12-13 17:23:15:Epoch 45: Train loss = 0.1171, Train error = 0.1171, early stopping loss = 0.0897, early stopping error = 0.0897, (1.031 sec)\n",
      "2020-12-13 17:23:17:Epoch 46: Train loss = 0.1192, Train error = 0.1192, early stopping loss = 0.0836, early stopping error = 0.0836, (1.170 sec)\n",
      "2020-12-13 17:23:18:Epoch 47: Train loss = 0.1164, Train error = 0.1164, early stopping loss = 0.0837, early stopping error = 0.0837, (1.344 sec)\n",
      "2020-12-13 17:23:19:Epoch 48: Train loss = 0.1166, Train error = 0.1166, early stopping loss = 0.0835, early stopping error = 0.0835, (1.075 sec)\n",
      "2020-12-13 17:23:20:Epoch 49: Train loss = 0.1159, Train error = 0.1159, early stopping loss = 0.0841, early stopping error = 0.0841, (1.077 sec)\n",
      "2020-12-13 17:23:21:Epoch 50: Train loss = 0.1158, Train error = 0.1158, early stopping loss = 0.0857, early stopping error = 0.0857, (1.181 sec)\n",
      "2020-12-13 17:23:22:Epoch 51: Train loss = 0.1166, Train error = 0.1166, early stopping loss = 0.0813, early stopping error = 0.0813, (1.098 sec)\n",
      "2020-12-13 17:23:24:Epoch 52: Train loss = 0.1154, Train error = 0.1154, early stopping loss = 0.0868, early stopping error = 0.0868, (1.176 sec)\n",
      "2020-12-13 17:23:25:Epoch 53: Train loss = 0.1134, Train error = 0.1134, early stopping loss = 0.0875, early stopping error = 0.0875, (1.147 sec)\n",
      "2020-12-13 17:23:26:Epoch 54: Train loss = 0.1150, Train error = 0.1150, early stopping loss = 0.0847, early stopping error = 0.0847, (1.096 sec)\n",
      "2020-12-13 17:23:27:Epoch 55: Train loss = 0.1156, Train error = 0.1156, early stopping loss = 0.0859, early stopping error = 0.0859, (1.083 sec)\n",
      "2020-12-13 17:23:28:Epoch 56: Train loss = 0.1141, Train error = 0.1141, early stopping loss = 0.0881, early stopping error = 0.0881, (1.201 sec)\n",
      "2020-12-13 17:23:29:Epoch 57: Train loss = 0.1148, Train error = 0.1148, early stopping loss = 0.0834, early stopping error = 0.0834, (1.078 sec)\n",
      "2020-12-13 17:23:30:Epoch 58: Train loss = 0.1114, Train error = 0.1114, early stopping loss = 0.0840, early stopping error = 0.0840, (1.032 sec)\n",
      "2020-12-13 17:23:31:Epoch 59: Train loss = 0.1140, Train error = 0.1140, early stopping loss = 0.0814, early stopping error = 0.0814, (1.081 sec)\n",
      "2020-12-13 17:23:33:Epoch 60: Train loss = 0.1134, Train error = 0.1134, early stopping loss = 0.0819, early stopping error = 0.0819, (1.177 sec)\n",
      "2020-12-13 17:23:34:Epoch 61: Train loss = 0.1135, Train error = 0.1135, early stopping loss = 0.0845, early stopping error = 0.0845, (1.179 sec)\n",
      "2020-12-13 17:23:35:Epoch 62: Train loss = 0.1111, Train error = 0.1111, early stopping loss = 0.0865, early stopping error = 0.0865, (1.051 sec)\n",
      "2020-12-13 17:23:36:Epoch 63: Train loss = 0.1125, Train error = 0.1125, early stopping loss = 0.0850, early stopping error = 0.0850, (0.995 sec)\n",
      "2020-12-13 17:23:37:Epoch 64: Train loss = 0.1128, Train error = 0.1128, early stopping loss = 0.0851, early stopping error = 0.0851, (0.900 sec)\n",
      "2020-12-13 17:23:38:Epoch 65: Train loss = 0.1148, Train error = 0.1148, early stopping loss = 0.0801, early stopping error = 0.0801, (0.978 sec)\n",
      "2020-12-13 17:23:39:Epoch 66: Train loss = 0.1145, Train error = 0.1145, early stopping loss = 0.0787, early stopping error = 0.0787, (0.969 sec)\n",
      "2020-12-13 17:23:40:Epoch 67: Train loss = 0.1126, Train error = 0.1126, early stopping loss = 0.0811, early stopping error = 0.0811, (0.977 sec)\n",
      "2020-12-13 17:23:41:Epoch 68: Train loss = 0.1126, Train error = 0.1126, early stopping loss = 0.0792, early stopping error = 0.0792, (1.107 sec)\n",
      "2020-12-13 17:23:42:Epoch 69: Train loss = 0.1120, Train error = 0.1120, early stopping loss = 0.0774, early stopping error = 0.0774, (1.159 sec)\n",
      "2020-12-13 17:23:43:Epoch 70: Train loss = 0.1116, Train error = 0.1116, early stopping loss = 0.0802, early stopping error = 0.0802, (1.098 sec)\n",
      "2020-12-13 17:23:44:Epoch 71: Train loss = 0.1120, Train error = 0.1120, early stopping loss = 0.0794, early stopping error = 0.0794, (0.961 sec)\n",
      "2020-12-13 17:23:45:Epoch 72: Train loss = 0.1120, Train error = 0.1120, early stopping loss = 0.0800, early stopping error = 0.0800, (1.056 sec)\n",
      "2020-12-13 17:23:46:Epoch 73: Train loss = 0.1140, Train error = 0.1140, early stopping loss = 0.0773, early stopping error = 0.0773, (1.035 sec)\n",
      "2020-12-13 17:23:47:Epoch 74: Train loss = 0.1142, Train error = 0.1142, early stopping loss = 0.0759, early stopping error = 0.0759, (1.027 sec)\n",
      "2020-12-13 17:23:48:Epoch 75: Train loss = 0.1144, Train error = 0.1144, early stopping loss = 0.0781, early stopping error = 0.0781, (0.979 sec)\n",
      "2020-12-13 17:23:49:Epoch 76: Train loss = 0.1099, Train error = 0.1099, early stopping loss = 0.0817, early stopping error = 0.0817, (1.043 sec)\n",
      "2020-12-13 17:23:50:Epoch 77: Train loss = 0.1109, Train error = 0.1109, early stopping loss = 0.0846, early stopping error = 0.0846, (0.972 sec)\n",
      "2020-12-13 17:23:51:Epoch 78: Train loss = 0.1097, Train error = 0.1097, early stopping loss = 0.0779, early stopping error = 0.0779, (1.040 sec)\n",
      "2020-12-13 17:23:52:Epoch 79: Train loss = 0.1110, Train error = 0.1110, early stopping loss = 0.0787, early stopping error = 0.0787, (1.056 sec)\n",
      "2020-12-13 17:23:53:Epoch 80: Train loss = 0.1112, Train error = 0.1112, early stopping loss = 0.0751, early stopping error = 0.0751, (1.049 sec)\n",
      "2020-12-13 17:23:54:Epoch 81: Train loss = 0.1112, Train error = 0.1112, early stopping loss = 0.0758, early stopping error = 0.0758, (0.973 sec)\n",
      "2020-12-13 17:23:55:Epoch 82: Train loss = 0.1097, Train error = 0.1097, early stopping loss = 0.0802, early stopping error = 0.0802, (1.043 sec)\n",
      "2020-12-13 17:23:56:Epoch 83: Train loss = 0.1103, Train error = 0.1103, early stopping loss = 0.0757, early stopping error = 0.0757, (1.030 sec)\n",
      "2020-12-13 17:23:57:Epoch 84: Train loss = 0.1100, Train error = 0.1100, early stopping loss = 0.0768, early stopping error = 0.0768, (1.104 sec)\n",
      "2020-12-13 17:23:58:Epoch 85: Train loss = 0.1107, Train error = 0.1107, early stopping loss = 0.0732, early stopping error = 0.0732, (1.126 sec)\n",
      "2020-12-13 17:23:59:Epoch 86: Train loss = 0.1103, Train error = 0.1103, early stopping loss = 0.0754, early stopping error = 0.0754, (1.045 sec)\n",
      "2020-12-13 17:24:01:Epoch 87: Train loss = 0.1102, Train error = 0.1102, early stopping loss = 0.0750, early stopping error = 0.0750, (1.038 sec)\n",
      "2020-12-13 17:24:02:Epoch 88: Train loss = 0.1099, Train error = 0.1099, early stopping loss = 0.0798, early stopping error = 0.0798, (1.055 sec)\n",
      "2020-12-13 17:24:03:Epoch 89: Train loss = 0.1102, Train error = 0.1102, early stopping loss = 0.0801, early stopping error = 0.0801, (1.097 sec)\n",
      "2020-12-13 17:24:04:Epoch 90: Train loss = 0.1118, Train error = 0.1118, early stopping loss = 0.0765, early stopping error = 0.0765, (1.121 sec)\n",
      "2020-12-13 17:24:05:Epoch 91: Train loss = 0.1098, Train error = 0.1098, early stopping loss = 0.0777, early stopping error = 0.0777, (1.013 sec)\n",
      "2020-12-13 17:24:06:Epoch 92: Train loss = 0.1115, Train error = 0.1115, early stopping loss = 0.0686, early stopping error = 0.0686, (1.118 sec)\n",
      "2020-12-13 17:24:07:Epoch 93: Train loss = 0.1094, Train error = 0.1094, early stopping loss = 0.0767, early stopping error = 0.0767, (1.137 sec)\n",
      "2020-12-13 17:24:08:Epoch 94: Train loss = 0.1081, Train error = 0.1081, early stopping loss = 0.0765, early stopping error = 0.0765, (1.020 sec)\n",
      "2020-12-13 17:24:09:Epoch 95: Train loss = 0.1097, Train error = 0.1097, early stopping loss = 0.0744, early stopping error = 0.0744, (1.059 sec)\n",
      "2020-12-13 17:24:10:Epoch 96: Train loss = 0.1074, Train error = 0.1074, early stopping loss = 0.0754, early stopping error = 0.0754, (0.991 sec)\n",
      "2020-12-13 17:24:11:Epoch 97: Train loss = 0.1115, Train error = 0.1115, early stopping loss = 0.0726, early stopping error = 0.0726, (0.961 sec)\n",
      "2020-12-13 17:24:12:Epoch 98: Train loss = 0.1099, Train error = 0.1099, early stopping loss = 0.0716, early stopping error = 0.0716, (1.034 sec)\n",
      "2020-12-13 17:24:13:Epoch 99: Train loss = 0.1069, Train error = 0.1069, early stopping loss = 0.0763, early stopping error = 0.0763, (1.140 sec)\n",
      "2020-12-13 17:24:14:Epoch 100: Train loss = 0.1106, Train error = 0.1106, early stopping loss = 0.0718, early stopping error = 0.0718, (1.163 sec)\n",
      "2020-12-13 17:24:15:Epoch 101: Train loss = 0.1083, Train error = 0.1083, early stopping loss = 0.0727, early stopping error = 0.0727, (1.059 sec)\n",
      "2020-12-13 17:24:17:Epoch 102: Train loss = 0.1093, Train error = 0.1093, early stopping loss = 0.0749, early stopping error = 0.0749, (1.167 sec)\n",
      "2020-12-13 17:24:18:Epoch 103: Train loss = 0.1103, Train error = 0.1103, early stopping loss = 0.0759, early stopping error = 0.0759, (1.182 sec)\n",
      "2020-12-13 17:24:19:Epoch 104: Train loss = 0.1079, Train error = 0.1079, early stopping loss = 0.0796, early stopping error = 0.0796, (0.987 sec)\n",
      "2020-12-13 17:24:20:Epoch 105: Train loss = 0.1111, Train error = 0.1111, early stopping loss = 0.0718, early stopping error = 0.0718, (1.181 sec)\n",
      "2020-12-13 17:24:21:Epoch 106: Train loss = 0.1075, Train error = 0.1075, early stopping loss = 0.0742, early stopping error = 0.0742, (1.110 sec)\n",
      "2020-12-13 17:24:22:Epoch 107: Train loss = 0.1085, Train error = 0.1085, early stopping loss = 0.0710, early stopping error = 0.0710, (1.011 sec)\n",
      "2020-12-13 17:24:23:Epoch 108: Train loss = 0.1081, Train error = 0.1081, early stopping loss = 0.0754, early stopping error = 0.0754, (1.131 sec)\n",
      "2020-12-13 17:24:24:Epoch 109: Train loss = 0.1065, Train error = 0.1065, early stopping loss = 0.0752, early stopping error = 0.0752, (1.167 sec)\n",
      "2020-12-13 17:24:26:Epoch 110: Train loss = 0.1094, Train error = 0.1094, early stopping loss = 0.0756, early stopping error = 0.0756, (1.121 sec)\n",
      "2020-12-13 17:24:27:Epoch 111: Train loss = 0.1059, Train error = 0.1059, early stopping loss = 0.0802, early stopping error = 0.0802, (1.182 sec)\n",
      "2020-12-13 17:24:28:Epoch 112: Train loss = 0.1094, Train error = 0.1094, early stopping loss = 0.0752, early stopping error = 0.0752, (1.281 sec)\n",
      "2020-12-13 17:24:29:Epoch 113: Train loss = 0.1083, Train error = 0.1083, early stopping loss = 0.0729, early stopping error = 0.0729, (1.252 sec)\n",
      "2020-12-13 17:24:30:Epoch 114: Train loss = 0.1066, Train error = 0.1066, early stopping loss = 0.0744, early stopping error = 0.0744, (1.127 sec)\n",
      "2020-12-13 17:24:32:Epoch 115: Train loss = 0.1062, Train error = 0.1062, early stopping loss = 0.0777, early stopping error = 0.0777, (1.394 sec)\n",
      "2020-12-13 17:24:33:Epoch 116: Train loss = 0.1072, Train error = 0.1072, early stopping loss = 0.0729, early stopping error = 0.0729, (1.133 sec)\n",
      "2020-12-13 17:24:34:Epoch 117: Train loss = 0.1065, Train error = 0.1065, early stopping loss = 0.0799, early stopping error = 0.0799, (1.211 sec)\n",
      "2020-12-13 17:24:35:Epoch 118: Train loss = 0.1076, Train error = 0.1076, early stopping loss = 0.0745, early stopping error = 0.0745, (1.263 sec)\n",
      "2020-12-13 17:24:37:Epoch 119: Train loss = 0.1089, Train error = 0.1089, early stopping loss = 0.0700, early stopping error = 0.0700, (1.289 sec)\n",
      "2020-12-13 17:24:38:Epoch 120: Train loss = 0.1070, Train error = 0.1070, early stopping loss = 0.0770, early stopping error = 0.0770, (1.301 sec)\n",
      "2020-12-13 17:24:39:Epoch 121: Train loss = 0.1073, Train error = 0.1073, early stopping loss = 0.0735, early stopping error = 0.0735, (1.262 sec)\n",
      "2020-12-13 17:24:40:Epoch 122: Train loss = 0.1082, Train error = 0.1082, early stopping loss = 0.0726, early stopping error = 0.0726, (1.169 sec)\n",
      "2020-12-13 17:24:40:Last epoch: 122, best epoch: 92 (144.072 sec)\n",
      "2020-12-13 17:24:40:Early stopping error: 0.06689972524285318\n",
      "2020-12-13 17:24:40:Validation mean error: 0.03023173260688783\n"
     ]
    }
   ],
   "source": [
    "model, result = train_model(model_name + '_' + dataset, model, fea_constructor, graph, **args_dict)"
   ]
  },
  {
   "cell_type": "markdown",
   "metadata": {},
   "source": [
    "# Prediction on NEW SEEDS"
   ]
  },
  {
   "cell_type": "code",
   "execution_count": 7,
   "metadata": {},
   "outputs": [
    {
     "output_type": "execute_result",
     "data": {
      "text/plain": [
       "<Undirected, unweighted and connected SparseGraph with 15962 edges (no self-loops). Data: adj_matrix (2810x2810), attr_matrix (2810x2879), labels (2810), node_names (2810), attr_names (2879), class_names (7), prob_matrix (2810x2810), influ_mat_list (60x2810x25)>"
      ]
     },
     "metadata": {},
     "execution_count": 7
    }
   ],
   "source": [
    "dataset = 'cora_ml'\n",
    "graph = load_dataset(dataset)\n",
    "influ_mat_list = copy.copy(graph.influ_mat_list)\n",
    "graph"
   ]
  },
  {
   "cell_type": "markdown",
   "metadata": {},
   "source": [
    "### predict"
   ]
  },
  {
   "cell_type": "code",
   "execution_count": 8,
   "metadata": {},
   "outputs": [],
   "source": [
    "# metrics\n",
    "me = lambda x, y: np.mean(np.abs(x - y))\n",
    "te = lambda x, y: np.abs(np.sum(x) - np.sum(y)) "
   ]
  },
  {
   "cell_type": "code",
   "execution_count": 13,
   "metadata": {},
   "outputs": [
    {
     "output_type": "stream",
     "name": "stdout",
     "text": [
      "mean error: 0.018603896682667542\ntotal error: 13.226155718333416\nCPU times: user 1.96 s, sys: 61 ms, total: 2.02 s\nWall time: 386 ms\n"
     ]
    }
   ],
   "source": [
    "%%time\n",
    "influ_mat = influ_mat_list[58]\n",
    "seed_vec = influ_mat[:, 0]\n",
    "seed_idx = np.argwhere(seed_vec == 1) # used by PIteration\n",
    "influ_vec = influ_mat[:, -1]\n",
    "\n",
    "fea_constructor.prob_matrix = graph.prob_matrix\n",
    "final_preds = get_predictions_new_seeds(model, fea_constructor, seed_vec, np.arange(len(seed_vec)), graph.prob_matrix, seed_idx)\n",
    "\n",
    "print('mean error:', me(influ_vec, final_preds))\n",
    "print('total error:', te(influ_vec, final_preds))\n"
   ]
  }
 ],
 "metadata": {
  "file_extension": ".py",
  "kernelspec": {
   "display_name": "Python 3",
   "language": "python",
   "name": "python3"
  },
  "language_info": {
   "codemirror_mode": {
    "name": "ipython",
    "version": 3
   },
   "file_extension": ".py",
   "mimetype": "text/x-python",
   "name": "python",
   "nbconvert_exporter": "python",
   "pygments_lexer": "ipython3",
   "version": "3.8.3-final"
  },
  "mimetype": "text/x-python",
  "name": "python",
  "npconvert_exporter": "python",
  "pygments_lexer": "ipython3",
  "version": 3
 },
 "nbformat": 4,
 "nbformat_minor": 4
}