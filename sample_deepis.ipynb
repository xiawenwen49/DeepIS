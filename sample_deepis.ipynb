{
 "cells": [
  {
   "cell_type": "code",
   "execution_count": 5,
   "metadata": {},
   "outputs": [
    {
     "name": "stdout",
     "output_type": "stream",
     "text": [
      "The autoreload extension is already loaded. To reload it, use:\n",
      "  %reload_ext autoreload\n"
     ]
    }
   ],
   "source": [
    "%load_ext autoreload\n",
    "%autoreload 2\n",
    "import logging\n",
    "import torch\n",
    "import numpy as np\n",
    "import pickle\n",
    "from pathlib import Path\n",
    "import pandas as pd\n",
    "import copy\n",
    "import seaborn as sns\n",
    "import matplotlib\n",
    "import matplotlib.pyplot as plt\n",
    "import time\n",
    "\n",
    "from main.deepis import DeepIS, DiffusionPropagate, Identity\n",
    "from main.models.MLP import MLPTransform\n",
    "from main.utils import to_nparray, to_torch, sp2adj_lists\n",
    "from main.training import train_model, get_predictions_new_seeds, PIteration, FeatureCons\n",
    "from main.earlystopping import stopping_args\n",
    "from main.utils import load_dataset, load_latest_ckpt\n",
    "# from im.influspread import IS\n",
    "\n",
    "logging.basicConfig(\n",
    "    format='%(asctime)s:%(message)s',\n",
    "    datefmt='%Y-%m-%d %H:%M:%S',\n",
    "    level=logging.INFO)\n",
    "plt.style.use('seaborn')\n",
    "me_op = lambda x, y: np.mean(np.abs(x - y))\n",
    "te_op = lambda x, y: np.abs(np.sum(x) - np.sum(y))                               "
   ]
  },
  {
   "cell_type": "markdown",
   "metadata": {},
   "source": [
    "# Load the dataset\n"
   ]
  },
  {
   "cell_type": "markdown",
   "metadata": {},
   "source": [
    "## Load from saved SparseGraph object, with added prob_matrix and influ_mats"
   ]
  },
  {
   "cell_type": "code",
   "execution_count": 6,
   "metadata": {},
   "outputs": [],
   "source": [
    "# key parameters\n",
    "dataset = 'cora_ml' # 'cora_ml', 'citeseer', 'ms_academic', 'pubmed'\n",
    "model_name = 'deepis' # 'deepis', ''"
   ]
  },
  {
   "cell_type": "code",
   "execution_count": 7,
   "metadata": {},
   "outputs": [
    {
     "name": "stdout",
     "output_type": "stream",
     "text": [
      "<Undirected, unweighted and connected SparseGraph with 15962 edges (no self-loops). Data: adj_matrix (2810x2810), attr_matrix (2810x2879), labels (2810), node_names (2810), attr_names (2879), class_names (7), prob_matrix (2810x2810), influ_mat_list (60x2810x25)>\n"
     ]
    },
    {
     "data": {
      "text/plain": [
       "((50, 2810, 25), (60, 2810, 25))"
      ]
     },
     "execution_count": 7,
     "metadata": {},
     "output_type": "execute_result"
    }
   ],
   "source": [
    "graph = load_dataset(dataset)\n",
    "print(graph)\n",
    "\n",
    "influ_mat_list = copy.copy(graph.influ_mat_list)\n",
    "graph.influ_mat_list = graph.influ_mat_list[:50]\n",
    "graph.influ_mat_list.shape, influ_mat_list.shape"
   ]
  },
  {
   "cell_type": "markdown",
   "metadata": {},
   "source": [
    "# Build model"
   ]
  },
  {
   "cell_type": "code",
   "execution_count": 8,
   "metadata": {
    "scrolled": true
   },
   "outputs": [
    {
     "name": "stdout",
     "output_type": "stream",
     "text": [
      "The autoreload extension is already loaded. To reload it, use:\n",
      "  %reload_ext autoreload\n"
     ]
    }
   ],
   "source": [
    "%load_ext autoreload\n",
    "%autoreload 2\n",
    "\n",
    "# training parameters\n",
    "ndim = 5\n",
    "propagate_model = DiffusionPropagate(graph.prob_matrix, niter=2)\n",
    "fea_constructor = FeatureCons(model_name, ndim=ndim)\n",
    "fea_constructor.prob_matrix = graph.prob_matrix\n",
    "device = 'cuda' # 'cpu', 'cuda'\n",
    "args_dict = {\n",
    "    'learning_rate': 0.0001,\n",
    "    'λ': 0,\n",
    "    'γ': 0,\n",
    "    'ckpt_dir': Path('./checkpoints'),\n",
    "    'idx_split_args': {'ntraining': 1500, 'nstopping': 500, 'nval': 10, 'seed': 2413340114},  \n",
    "    'test': False,\n",
    "    'device': device,\n",
    "    'print_interval': 1,\n",
    "    'batch_size': None,\n",
    "    \n",
    "}\n",
    "if model_name == 'deepis':\n",
    "    gnn_model = MLPTransform(input_dim=ndim, hiddenunits=[64, 64], num_classes=1)\n",
    "else:\n",
    "    pass\n",
    "model = DeepIS(gnn_model=gnn_model, propagate=propagate_model)"
   ]
  },
  {
   "cell_type": "markdown",
   "metadata": {},
   "source": [
    "## Train model from stratch"
   ]
  },
  {
   "cell_type": "code",
   "execution_count": 9,
   "metadata": {
    "scrolled": true,
    "tags": []
   },
   "outputs": [
    {
     "name": "stderr",
     "output_type": "stream",
     "text": [
      "2020-12-14 16:28:54:PyTorch seed: 3286736829\n",
      "2020-12-14 16:29:11:Epoch 0: Train loss = 0.0507, Train error = 0.0507, early stopping loss = 0.0501, early stopping error = 0.0501, (14.459 sec)\n",
      "2020-12-14 16:29:14:Epoch 1: Train loss = 0.0472, Train error = 0.0472, early stopping loss = 0.0496, early stopping error = 0.0496, (3.160 sec)\n",
      "2020-12-14 16:29:18:Epoch 2: Train loss = 0.0457, Train error = 0.0457, early stopping loss = 0.0436, early stopping error = 0.0436, (3.584 sec)\n",
      "2020-12-14 16:29:21:Epoch 3: Train loss = 0.0421, Train error = 0.0421, early stopping loss = 0.0408, early stopping error = 0.0408, (3.252 sec)\n",
      "2020-12-14 16:29:24:Epoch 4: Train loss = 0.0388, Train error = 0.0388, early stopping loss = 0.0383, early stopping error = 0.0383, (3.007 sec)\n",
      "2020-12-14 16:29:27:Epoch 5: Train loss = 0.0357, Train error = 0.0357, early stopping loss = 0.0357, early stopping error = 0.0357, (3.200 sec)\n",
      "2020-12-14 16:29:32:Epoch 6: Train loss = 0.0332, Train error = 0.0332, early stopping loss = 0.0330, early stopping error = 0.0330, (4.148 sec)\n",
      "2020-12-14 16:29:35:Epoch 7: Train loss = 0.0319, Train error = 0.0319, early stopping loss = 0.0318, early stopping error = 0.0318, (2.990 sec)\n",
      "2020-12-14 16:29:38:Epoch 8: Train loss = 0.0304, Train error = 0.0304, early stopping loss = 0.0295, early stopping error = 0.0295, (3.569 sec)\n",
      "2020-12-14 16:29:41:Epoch 9: Train loss = 0.0287, Train error = 0.0287, early stopping loss = 0.0294, early stopping error = 0.0294, (2.997 sec)\n",
      "2020-12-14 16:29:44:Epoch 10: Train loss = 0.0283, Train error = 0.0283, early stopping loss = 0.0285, early stopping error = 0.0285, (2.812 sec)\n",
      "2020-12-14 16:29:47:Epoch 11: Train loss = 0.0274, Train error = 0.0274, early stopping loss = 0.0280, early stopping error = 0.0280, (3.186 sec)\n",
      "2020-12-14 16:29:50:Epoch 12: Train loss = 0.0269, Train error = 0.0269, early stopping loss = 0.0282, early stopping error = 0.0282, (2.782 sec)\n",
      "2020-12-14 16:29:53:Epoch 13: Train loss = 0.0271, Train error = 0.0271, early stopping loss = 0.0266, early stopping error = 0.0266, (2.794 sec)\n",
      "2020-12-14 16:29:56:Epoch 14: Train loss = 0.0264, Train error = 0.0264, early stopping loss = 0.0263, early stopping error = 0.0263, (3.198 sec)\n",
      "2020-12-14 16:29:59:Epoch 15: Train loss = 0.0264, Train error = 0.0264, early stopping loss = 0.0272, early stopping error = 0.0272, (2.822 sec)\n",
      "2020-12-14 16:30:02:Epoch 16: Train loss = 0.0258, Train error = 0.0258, early stopping loss = 0.0266, early stopping error = 0.0266, (2.849 sec)\n",
      "2020-12-14 16:30:04:Epoch 17: Train loss = 0.0262, Train error = 0.0262, early stopping loss = 0.0252, early stopping error = 0.0252, (2.815 sec)\n",
      "2020-12-14 16:30:08:Epoch 18: Train loss = 0.0256, Train error = 0.0256, early stopping loss = 0.0256, early stopping error = 0.0256, (3.231 sec)\n",
      "2020-12-14 16:30:11:Epoch 19: Train loss = 0.0262, Train error = 0.0262, early stopping loss = 0.0257, early stopping error = 0.0257, (3.028 sec)\n",
      "2020-12-14 16:30:14:Epoch 20: Train loss = 0.0252, Train error = 0.0252, early stopping loss = 0.0264, early stopping error = 0.0264, (3.079 sec)\n",
      "2020-12-14 16:30:17:Epoch 21: Train loss = 0.0257, Train error = 0.0257, early stopping loss = 0.0249, early stopping error = 0.0249, (3.061 sec)\n",
      "2020-12-14 16:30:20:Epoch 22: Train loss = 0.0258, Train error = 0.0258, early stopping loss = 0.0246, early stopping error = 0.0246, (3.141 sec)\n",
      "2020-12-14 16:30:23:Epoch 23: Train loss = 0.0256, Train error = 0.0256, early stopping loss = 0.0247, early stopping error = 0.0247, (3.138 sec)\n",
      "2020-12-14 16:30:27:Epoch 24: Train loss = 0.0255, Train error = 0.0255, early stopping loss = 0.0249, early stopping error = 0.0249, (4.177 sec)\n",
      "2020-12-14 16:30:32:Epoch 25: Train loss = 0.0256, Train error = 0.0256, early stopping loss = 0.0257, early stopping error = 0.0257, (4.919 sec)\n",
      "2020-12-14 16:30:36:Epoch 26: Train loss = 0.0253, Train error = 0.0253, early stopping loss = 0.0253, early stopping error = 0.0253, (3.752 sec)\n",
      "2020-12-14 16:30:40:Epoch 27: Train loss = 0.0252, Train error = 0.0252, early stopping loss = 0.0256, early stopping error = 0.0256, (3.722 sec)\n",
      "2020-12-14 16:30:43:Epoch 28: Train loss = 0.0250, Train error = 0.0250, early stopping loss = 0.0250, early stopping error = 0.0250, (3.234 sec)\n",
      "2020-12-14 16:30:46:Epoch 29: Train loss = 0.0252, Train error = 0.0252, early stopping loss = 0.0252, early stopping error = 0.0252, (3.265 sec)\n",
      "2020-12-14 16:30:50:Epoch 30: Train loss = 0.0252, Train error = 0.0252, early stopping loss = 0.0242, early stopping error = 0.0242, (3.935 sec)\n",
      "2020-12-14 16:30:54:Epoch 31: Train loss = 0.0251, Train error = 0.0251, early stopping loss = 0.0252, early stopping error = 0.0252, (3.420 sec)\n",
      "2020-12-14 16:30:56:Epoch 32: Train loss = 0.0248, Train error = 0.0248, early stopping loss = 0.0242, early stopping error = 0.0242, (2.802 sec)\n",
      "2020-12-14 16:31:00:Epoch 33: Train loss = 0.0242, Train error = 0.0242, early stopping loss = 0.0248, early stopping error = 0.0248, (3.661 sec)\n",
      "2020-12-14 16:31:04:Epoch 34: Train loss = 0.0249, Train error = 0.0249, early stopping loss = 0.0254, early stopping error = 0.0254, (4.134 sec)\n",
      "2020-12-14 16:31:08:Epoch 35: Train loss = 0.0251, Train error = 0.0251, early stopping loss = 0.0242, early stopping error = 0.0242, (4.009 sec)\n",
      "2020-12-14 16:31:12:Epoch 36: Train loss = 0.0243, Train error = 0.0243, early stopping loss = 0.0252, early stopping error = 0.0252, (3.450 sec)\n",
      "2020-12-14 16:31:15:Epoch 37: Train loss = 0.0244, Train error = 0.0244, early stopping loss = 0.0241, early stopping error = 0.0241, (3.278 sec)\n",
      "2020-12-14 16:31:18:Epoch 38: Train loss = 0.0242, Train error = 0.0242, early stopping loss = 0.0248, early stopping error = 0.0248, (3.195 sec)\n",
      "2020-12-14 16:31:21:Epoch 39: Train loss = 0.0250, Train error = 0.0250, early stopping loss = 0.0236, early stopping error = 0.0236, (2.858 sec)\n",
      "2020-12-14 16:31:24:Epoch 40: Train loss = 0.0246, Train error = 0.0246, early stopping loss = 0.0250, early stopping error = 0.0250, (2.979 sec)\n",
      "2020-12-14 16:31:27:Epoch 41: Train loss = 0.0249, Train error = 0.0249, early stopping loss = 0.0236, early stopping error = 0.0236, (3.084 sec)\n",
      "2020-12-14 16:31:30:Epoch 42: Train loss = 0.0241, Train error = 0.0241, early stopping loss = 0.0252, early stopping error = 0.0252, (3.192 sec)\n",
      "2020-12-14 16:31:33:Epoch 43: Train loss = 0.0244, Train error = 0.0244, early stopping loss = 0.0239, early stopping error = 0.0239, (2.899 sec)\n",
      "2020-12-14 16:31:36:Epoch 44: Train loss = 0.0246, Train error = 0.0246, early stopping loss = 0.0235, early stopping error = 0.0235, (3.260 sec)\n",
      "2020-12-14 16:31:39:Epoch 45: Train loss = 0.0248, Train error = 0.0248, early stopping loss = 0.0239, early stopping error = 0.0239, (2.787 sec)\n",
      "2020-12-14 16:31:42:Epoch 46: Train loss = 0.0246, Train error = 0.0246, early stopping loss = 0.0241, early stopping error = 0.0241, (2.896 sec)\n",
      "2020-12-14 16:31:45:Epoch 47: Train loss = 0.0244, Train error = 0.0244, early stopping loss = 0.0232, early stopping error = 0.0232, (2.768 sec)\n",
      "2020-12-14 16:31:48:Epoch 48: Train loss = 0.0247, Train error = 0.0247, early stopping loss = 0.0230, early stopping error = 0.0230, (3.230 sec)\n",
      "2020-12-14 16:31:51:Epoch 49: Train loss = 0.0244, Train error = 0.0244, early stopping loss = 0.0244, early stopping error = 0.0244, (2.812 sec)\n",
      "2020-12-14 16:31:54:Epoch 50: Train loss = 0.0242, Train error = 0.0242, early stopping loss = 0.0243, early stopping error = 0.0243, (2.832 sec)\n",
      "2020-12-14 16:31:57:Epoch 51: Train loss = 0.0240, Train error = 0.0240, early stopping loss = 0.0247, early stopping error = 0.0247, (2.861 sec)\n",
      "2020-12-14 16:31:59:Epoch 52: Train loss = 0.0239, Train error = 0.0239, early stopping loss = 0.0239, early stopping error = 0.0239, (2.846 sec)\n",
      "2020-12-14 16:32:02:Epoch 53: Train loss = 0.0243, Train error = 0.0243, early stopping loss = 0.0245, early stopping error = 0.0245, (2.807 sec)\n",
      "2020-12-14 16:32:05:Epoch 54: Train loss = 0.0236, Train error = 0.0236, early stopping loss = 0.0238, early stopping error = 0.0238, (2.745 sec)\n",
      "2020-12-14 16:32:08:Epoch 55: Train loss = 0.0247, Train error = 0.0247, early stopping loss = 0.0218, early stopping error = 0.0218, (2.979 sec)\n",
      "2020-12-14 16:32:11:Epoch 56: Train loss = 0.0242, Train error = 0.0242, early stopping loss = 0.0237, early stopping error = 0.0237, (2.804 sec)\n",
      "2020-12-14 16:32:14:Epoch 57: Train loss = 0.0245, Train error = 0.0245, early stopping loss = 0.0227, early stopping error = 0.0227, (2.795 sec)\n",
      "2020-12-14 16:32:16:Epoch 58: Train loss = 0.0244, Train error = 0.0244, early stopping loss = 0.0237, early stopping error = 0.0237, (2.856 sec)\n",
      "2020-12-14 16:32:19:Epoch 59: Train loss = 0.0240, Train error = 0.0240, early stopping loss = 0.0235, early stopping error = 0.0235, (2.858 sec)\n",
      "2020-12-14 16:32:22:Epoch 60: Train loss = 0.0241, Train error = 0.0241, early stopping loss = 0.0238, early stopping error = 0.0238, (2.787 sec)\n",
      "2020-12-14 16:32:25:Epoch 61: Train loss = 0.0239, Train error = 0.0239, early stopping loss = 0.0232, early stopping error = 0.0232, (2.795 sec)\n",
      "2020-12-14 16:32:28:Epoch 62: Train loss = 0.0241, Train error = 0.0241, early stopping loss = 0.0238, early stopping error = 0.0238, (2.857 sec)\n",
      "2020-12-14 16:32:30:Epoch 63: Train loss = 0.0238, Train error = 0.0238, early stopping loss = 0.0238, early stopping error = 0.0238, (2.775 sec)\n",
      "2020-12-14 16:32:33:Epoch 64: Train loss = 0.0242, Train error = 0.0242, early stopping loss = 0.0240, early stopping error = 0.0240, (2.792 sec)\n",
      "2020-12-14 16:32:36:Epoch 65: Train loss = 0.0240, Train error = 0.0240, early stopping loss = 0.0231, early stopping error = 0.0231, (2.786 sec)\n",
      "2020-12-14 16:32:39:Epoch 66: Train loss = 0.0243, Train error = 0.0243, early stopping loss = 0.0232, early stopping error = 0.0232, (2.822 sec)\n",
      "2020-12-14 16:32:42:Epoch 67: Train loss = 0.0244, Train error = 0.0244, early stopping loss = 0.0233, early stopping error = 0.0233, (2.746 sec)\n",
      "2020-12-14 16:32:44:Epoch 68: Train loss = 0.0242, Train error = 0.0242, early stopping loss = 0.0235, early stopping error = 0.0235, (2.710 sec)\n",
      "2020-12-14 16:32:47:Epoch 69: Train loss = 0.0238, Train error = 0.0238, early stopping loss = 0.0247, early stopping error = 0.0247, (2.753 sec)\n",
      "2020-12-14 16:32:50:Epoch 70: Train loss = 0.0243, Train error = 0.0243, early stopping loss = 0.0226, early stopping error = 0.0226, (2.724 sec)\n",
      "2020-12-14 16:32:53:Epoch 71: Train loss = 0.0240, Train error = 0.0240, early stopping loss = 0.0234, early stopping error = 0.0234, (3.164 sec)\n",
      "2020-12-14 16:32:56:Epoch 72: Train loss = 0.0239, Train error = 0.0239, early stopping loss = 0.0219, early stopping error = 0.0219, (3.400 sec)\n",
      "2020-12-14 16:33:00:Epoch 73: Train loss = 0.0245, Train error = 0.0245, early stopping loss = 0.0220, early stopping error = 0.0220, (3.352 sec)\n",
      "2020-12-14 16:33:03:Epoch 74: Train loss = 0.0238, Train error = 0.0238, early stopping loss = 0.0235, early stopping error = 0.0235, (3.401 sec)\n",
      "2020-12-14 16:33:06:Epoch 75: Train loss = 0.0240, Train error = 0.0240, early stopping loss = 0.0230, early stopping error = 0.0230, (3.263 sec)\n",
      "2020-12-14 16:33:10:Epoch 76: Train loss = 0.0230, Train error = 0.0230, early stopping loss = 0.0238, early stopping error = 0.0238, (3.319 sec)\n",
      "2020-12-14 16:33:13:Epoch 77: Train loss = 0.0240, Train error = 0.0240, early stopping loss = 0.0230, early stopping error = 0.0230, (2.911 sec)\n",
      "2020-12-14 16:33:15:Epoch 78: Train loss = 0.0240, Train error = 0.0240, early stopping loss = 0.0225, early stopping error = 0.0225, (2.768 sec)\n",
      "2020-12-14 16:33:18:Epoch 79: Train loss = 0.0242, Train error = 0.0242, early stopping loss = 0.0226, early stopping error = 0.0226, (2.802 sec)\n",
      "2020-12-14 16:33:21:Epoch 80: Train loss = 0.0239, Train error = 0.0239, early stopping loss = 0.0235, early stopping error = 0.0235, (2.807 sec)\n",
      "2020-12-14 16:33:24:Epoch 81: Train loss = 0.0239, Train error = 0.0239, early stopping loss = 0.0239, early stopping error = 0.0239, (2.873 sec)\n",
      "2020-12-14 16:33:27:Epoch 82: Train loss = 0.0233, Train error = 0.0233, early stopping loss = 0.0237, early stopping error = 0.0237, (2.831 sec)\n",
      "2020-12-14 16:33:30:Epoch 83: Train loss = 0.0237, Train error = 0.0237, early stopping loss = 0.0230, early stopping error = 0.0230, (2.951 sec)\n",
      "2020-12-14 16:33:32:Epoch 84: Train loss = 0.0234, Train error = 0.0234, early stopping loss = 0.0235, early stopping error = 0.0235, (2.884 sec)\n",
      "2020-12-14 16:33:35:Epoch 85: Train loss = 0.0236, Train error = 0.0236, early stopping loss = 0.0238, early stopping error = 0.0238, (2.895 sec)\n",
      "2020-12-14 16:33:35:Last epoch: 85, best epoch: 55 (278.572 sec)\n",
      "2020-12-14 16:33:35:Early stopping error: 0.02053762026309967\n",
      "2020-12-14 16:33:35:Validation mean error: 0.01935968971252442\n"
     ]
    }
   ],
   "source": [
    "model, result = train_model(model_name + '_' + dataset, model, fea_constructor, graph, **args_dict)"
   ]
  },
  {
   "cell_type": "markdown",
   "metadata": {},
   "source": [
    "# Prediction on NEW SEEDS"
   ]
  },
  {
   "cell_type": "code",
   "execution_count": 10,
   "metadata": {},
   "outputs": [
    {
     "data": {
      "text/plain": [
       "<Undirected, unweighted and connected SparseGraph with 15962 edges (no self-loops). Data: adj_matrix (2810x2810), attr_matrix (2810x2879), labels (2810), node_names (2810), attr_names (2879), class_names (7), prob_matrix (2810x2810), influ_mat_list (60x2810x25)>"
      ]
     },
     "execution_count": 10,
     "metadata": {},
     "output_type": "execute_result"
    }
   ],
   "source": [
    "dataset = 'cora_ml'\n",
    "graph = load_dataset(dataset)\n",
    "influ_mat_list = copy.copy(graph.influ_mat_list)\n",
    "graph"
   ]
  },
  {
   "cell_type": "markdown",
   "metadata": {},
   "source": [
    "### predict"
   ]
  },
  {
   "cell_type": "code",
   "execution_count": 11,
   "metadata": {},
   "outputs": [],
   "source": [
    "# metrics\n",
    "me = lambda x, y: np.mean(np.abs(x - y))\n",
    "te = lambda x, y: np.abs(np.sum(x) - np.sum(y)) "
   ]
  },
  {
   "cell_type": "code",
   "execution_count": 18,
   "metadata": {},
   "outputs": [
    {
     "name": "stdout",
     "output_type": "stream",
     "text": [
      "mean error: 0.02211454525282374\n",
      "total error: 29.403850097656232\n",
      "CPU times: user 818 ms, sys: 80.8 ms, total: 899 ms\n",
      "Wall time: 282 ms\n"
     ]
    }
   ],
   "source": [
    "%%time\n",
    "\n",
    "influ_mat = influ_mat_list[55]\n",
    "seed_vec = influ_mat[:, 0]\n",
    "seed_idx = np.argwhere(seed_vec == 1) # used by PIteration\n",
    "influ_vec = influ_mat[:, -1]\n",
    "\n",
    "fea_constructor.prob_matrix = graph.prob_matrix\n",
    "final_preds = get_predictions_new_seeds(model, fea_constructor, seed_vec, np.arange(len(seed_vec)), graph.prob_matrix, seed_idx)\n",
    "\n",
    "print('mean error:', me(influ_vec, final_preds))\n",
    "print('total error:', te(influ_vec, final_preds))\n"
   ]
  },
  {
   "cell_type": "code",
   "execution_count": null,
   "metadata": {},
   "outputs": [],
   "source": []
  }
 ],
 "metadata": {
  "file_extension": ".py",
  "kernelspec": {
   "display_name": "Python 3",
   "language": "python",
   "name": "python3"
  },
  "language_info": {
   "codemirror_mode": {
    "name": "ipython",
    "version": 3
   },
   "file_extension": ".py",
   "mimetype": "text/x-python",
   "name": "python",
   "nbconvert_exporter": "python",
   "pygments_lexer": "ipython3",
   "version": "3.7.3"
  },
  "mimetype": "text/x-python",
  "name": "python",
  "npconvert_exporter": "python",
  "pygments_lexer": "ipython3",
  "version": 3
 },
 "nbformat": 4,
 "nbformat_minor": 4
}
